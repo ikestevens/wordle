{
 "cells": [
  {
   "cell_type": "code",
   "execution_count": 227,
   "metadata": {},
   "outputs": [],
   "source": [
    "import csv\n",
    "import random"
   ]
  },
  {
   "cell_type": "code",
   "execution_count": 228,
   "metadata": {},
   "outputs": [],
   "source": [
    "with open('answers.csv', newline='') as f:\n",
    "    reader = csv.reader(f)\n",
    "    answers = list(reader)"
   ]
  },
  {
   "cell_type": "code",
   "execution_count": 229,
   "metadata": {},
   "outputs": [],
   "source": [
    "with open('guesses.csv', newline='') as f:\n",
    "    reader = csv.reader(f)\n",
    "    guesses = list(reader)"
   ]
  },
  {
   "cell_type": "code",
   "execution_count": 230,
   "metadata": {},
   "outputs": [],
   "source": [
    "all_words = answers + guesses\n",
    "all_words = [x for x in all_words for x in x]"
   ]
  },
  {
   "cell_type": "code",
   "execution_count": 231,
   "metadata": {},
   "outputs": [],
   "source": [
    "def wordle(possible_words, green, yellow, gray):\n",
    "    \n",
    "    # green letters\n",
    "    if len(green[0]) > 0:\n",
    "        possible_words = [x for x in possible_words if x[0] == green[0]]\n",
    "    if len(green[1]) > 0:\n",
    "        possible_words = [x for x in possible_words if x[1] == green[1]]\n",
    "    if len(green[2]) > 0:\n",
    "        possible_words = [x for x in possible_words if x[2] == green[2]]\n",
    "    if len(green[3]) > 0:\n",
    "        possible_words = [x for x in possible_words if x[3] == green[3]]\n",
    "    if len(green[4]) > 0:\n",
    "        possible_words = [x for x in possible_words if x[4] == green[4]]\n",
    "        \n",
    "    # yellow letters\n",
    "    if len(yellow[0]) > 0:\n",
    "        for letter in yellow[0]:\n",
    "            possible_words = [x for x in possible_words if x[0] != letter]\n",
    "            possible_words = [x for x in possible_words if letter in x]\n",
    "    if len(yellow[1]) > 0:\n",
    "        for letter in yellow[1]:\n",
    "            possible_words = [x for x in possible_words if x[1] != letter]\n",
    "            possible_words = [x for x in possible_words if letter in x]\n",
    "    if len(yellow[2]) > 0:\n",
    "        for letter in yellow[2]:\n",
    "            possible_words = [x for x in possible_words if x[2] != letter]\n",
    "            possible_words = [x for x in possible_words if letter in x]\n",
    "    if len(yellow[0]) > 0:\n",
    "        for letter in yellow[3]:\n",
    "            possible_words = [x for x in possible_words if x[3] != letter]\n",
    "            possible_words = [x for x in possible_words if letter in x]\n",
    "    if len(yellow[4]) > 0:\n",
    "        for letter in yellow[4]:\n",
    "            possible_words = [x for x in possible_words if x[4] != letter]\n",
    "            possible_words = [x for x in possible_words if letter in x]\n",
    "            \n",
    "    # gray letters\n",
    "    if len(gray) > 0:\n",
    "        for letter in gray:\n",
    "            possible_words = [x for x in possible_words if letter not in x]\n",
    "    return sorted(possible_words)"
   ]
  },
  {
   "cell_type": "code",
   "execution_count": 235,
   "metadata": {},
   "outputs": [
    {
     "name": "stdout",
     "output_type": "stream",
     "text": [
      "['stuff']\n",
      "1 possible word(s). Try:\n",
      "stuff\n"
     ]
    }
   ],
   "source": [
    "green = ['s', '', 'u', 'f', 'f'] \n",
    "yellow = ['', '', '', 'st', 's'] # can have multiple letters in each position\n",
    "gray = 'vampycendhowl' # don't add gray's that are green/yellow elsewhere in the word\n",
    "options = wordle(all_words, green, yellow, gray)\n",
    "if len(options) < 30:\n",
    "    print(options)\n",
    "print(\"{} possible word(s). Try:\".format(len(options)))\n",
    "random_index = random.randint(0,len(options)-1)\n",
    "print(options[random_index])"
   ]
  },
  {
   "cell_type": "code",
   "execution_count": 181,
   "metadata": {},
   "outputs": [],
   "source": [
    "# start with this blank template\n",
    "green = ['', '', '', '', '']\n",
    "yellow = ['', '', '', '', '']\n",
    "gray = ''\n",
    "options = wordle(all_words, green, yellow, gray)\n",
    "if len(options) < 30:\n",
    "    print(options)\n",
    "print(\"{} possible word(s). Try:\".format(len(options)))\n",
    "random_index = random.randint(0,len(options)-1)\n",
    "print(options[random_index])"
   ]
  },
  {
   "cell_type": "code",
   "execution_count": null,
   "metadata": {},
   "outputs": [],
   "source": []
  }
 ],
 "metadata": {
  "kernelspec": {
   "display_name": "Python 3",
   "language": "python",
   "name": "python3"
  },
  "language_info": {
   "codemirror_mode": {
    "name": "ipython",
    "version": 3
   },
   "file_extension": ".py",
   "mimetype": "text/x-python",
   "name": "python",
   "nbconvert_exporter": "python",
   "pygments_lexer": "ipython3",
   "version": "3.7.4"
  }
 },
 "nbformat": 4,
 "nbformat_minor": 2
}
